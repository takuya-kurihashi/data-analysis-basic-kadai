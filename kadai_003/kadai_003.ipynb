{
  "nbformat": 4,
  "nbformat_minor": 0,
  "metadata": {
    "colab": {
      "provenance": []
    },
    "kernelspec": {
      "name": "python3",
      "display_name": "Python 3"
    },
    "language_info": {
      "name": "python"
    }
  },
  "cells": [
    {
      "cell_type": "code",
      "execution_count": 20,
      "metadata": {
        "colab": {
          "base_uri": "https://localhost:8080/"
        },
        "id": "jQZHuSiSt2gK",
        "outputId": "98490ff1-b083-41f0-8ded-3a1b7e42ab54"
      },
      "outputs": [
        {
          "output_type": "stream",
          "name": "stdout",
          "text": [
            "[[0 1]\n",
            " [2 3]\n",
            " [4 5]]\n",
            "\n",
            "[[0 1 2 3]\n",
            " [4 5 6 7]]\n",
            "\n",
            "[[ 4  5  6  7]\n",
            " [12 17 22 27]\n",
            " [20 29 38 47]]\n",
            "\n",
            "47\n"
          ]
        }
      ],
      "source": [
        "import numpy as np\n",
        "\n",
        "a = np.arange(6).reshape((3,2))\n",
        "b = np.arange(8).reshape((2,4))\n",
        "result = np.dot(a, b)\n",
        "\n",
        "print(f'{a}\\n')\n",
        "print(f'{b}\\n')\n",
        "print(f'{result}\\n')\n",
        "print(result.max())"
      ]
    }
  ]
}